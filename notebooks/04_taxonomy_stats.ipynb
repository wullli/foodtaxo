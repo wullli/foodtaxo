{
 "cells": [
  {
   "cell_type": "markdown",
   "id": "53fb71a9-990c-4ad0-9e2a-284048ace5f2",
   "metadata": {},
   "source": [
    "# Statistics for benchmark taxonomies"
   ]
  },
  {
   "cell_type": "code",
   "id": "0101640b-94cd-4bfa-9fda-a560cbb22d0b",
   "metadata": {},
   "source": [
    "import glob\n",
    "from collections import defaultdict\n",
    "from pathlib import Path\n",
    "\n",
    "import networkx as nx\n",
    "import numpy as np\n",
    "import pandas as pd\n",
    "\n",
    "from llm_food_taxonomy.data.loader import load_taxonomy\n",
    "from llm_food_taxonomy.graph.taxonomy import Taxonomy\n"
   ],
   "outputs": [],
   "execution_count": null
  },
  {
   "metadata": {},
   "cell_type": "code",
   "source": [
    "pd.set_option('display.max_columns', None)\n",
    "pd.set_option('display.expand_frame_repr', False)\n",
    "pd.set_option('max_colwidth', None)\n",
    "pd.set_option('display.float_format', '{:,.2f}'.format)"
   ],
   "id": "6905b3c89cfc532b",
   "outputs": [],
   "execution_count": null
  },
  {
   "cell_type": "code",
   "id": "729e4fd7-9ffb-4cc1-b8aa-1970b564a1e2",
   "metadata": {},
   "source": [
    "def load_splits(taxonomy_dir: str):\n",
    "    train_file = glob.glob(str(Path(taxonomy_dir) / \"*.terms.train\"))[0]\n",
    "    val_file = glob.glob(str(Path(taxonomy_dir) / \"*.terms.validation\"))[0]\n",
    "    test_file = glob.glob(str(Path(taxonomy_dir) / \"*.terms.test\"))[0]\n",
    "\n",
    "    res = []\n",
    "    for file in [train_file, val_file, test_file]:\n",
    "        with open(file, \"r\") as f:\n",
    "            lines = f.readlines()\n",
    "        res.append(lines)\n",
    "    return tuple(res)"
   ],
   "outputs": [],
   "execution_count": null
  },
  {
   "cell_type": "code",
   "id": "dc8dcbb9-05a0-4513-b41b-2ebe59961a29",
   "metadata": {},
   "source": [
    "def create_ancestries(taxo):\n",
    "    e = [tuple(edge) for edge in taxo[[\"hypernym\", \"hyponym\"]].values]\n",
    "    g = nx.DiGraph(e)\n",
    "    g.remove_edges_from(nx.selfloop_edges(g))\n",
    "\n",
    "    roots = [n for n in g.nodes() if g.in_degree(n) == 0]\n",
    "\n",
    "    def _get_ancestries(node, accumulator=()):\n",
    "        yield list(accumulator + (node,))\n",
    "        edges = g.out_edges(node)\n",
    "        for e in edges:\n",
    "            yield from _get_ancestries(e[1], accumulator=accumulator + (e[1],))\n",
    "\n",
    "    a = []\n",
    "\n",
    "    for r in roots:\n",
    "        a.extend(list(_get_ancestries(r)))\n",
    "\n",
    "    return a"
   ],
   "outputs": [],
   "execution_count": null
  },
  {
   "metadata": {},
   "cell_type": "code",
   "source": [
    "def branching_factor(taxo, node2name):\n",
    "    tax = Taxonomy(taxo, node2name)\n",
    "    tax.connect()\n",
    "    nodes = tax.children()\n",
    "    return np.mean([len(cs) for _, cs in nodes if len(cs) > 0])\n"
   ],
   "id": "d68e5682457f86f6",
   "outputs": [],
   "execution_count": null
  },
  {
   "cell_type": "code",
   "id": "5d558926-26b3-4124-8386-3bb6c2a8040e",
   "metadata": {},
   "source": [
    "terms, taxo = load_taxonomy(\"../data/mesh\")\n",
    "terms.head()"
   ],
   "outputs": [],
   "execution_count": null
  },
  {
   "cell_type": "code",
   "id": "4b487aff-b872-497c-a39e-7a4d644dea46",
   "metadata": {},
   "source": [
    "taxo.head()"
   ],
   "outputs": [],
   "execution_count": null
  },
  {
   "cell_type": "code",
   "id": "3adc54f3-c3c1-491f-b137-d17da446b66c",
   "metadata": {},
   "source": [
    "taxo[\"hypernym_name\"] = taxo.hypernym.apply(lambda x: terms.set_index(\"node_id\").loc[x].node_name)\n",
    "taxo[\"hyponym_name\"] = taxo.hyponym.apply(lambda x: terms.set_index(\"node_id\").loc[x].node_name)"
   ],
   "outputs": [],
   "execution_count": null
  },
  {
   "cell_type": "code",
   "id": "e506498d-fa14-4292-9242-b7a34097a543",
   "metadata": {},
   "source": [
    "taxo.head()"
   ],
   "outputs": [],
   "execution_count": null
  },
  {
   "cell_type": "code",
   "id": "2a0f8e6e-8e8a-4f10-85de-aba9637bda4a",
   "metadata": {},
   "source": [
    "np.intersect1d(terms.node_id, taxo.hypernym).shape[0] / terms.shape[0]"
   ],
   "outputs": [],
   "execution_count": null
  },
  {
   "cell_type": "code",
   "id": "a031c118-597c-4c70-beb8-61d336822e6b",
   "metadata": {},
   "source": [
    "np.intersect1d(terms.node_id, taxo.hyponym).shape[0] / terms.shape[0]"
   ],
   "outputs": [],
   "execution_count": null
  },
  {
   "cell_type": "code",
   "id": "719825a1-7fd6-4cee-b43c-583d985d0bd3",
   "metadata": {},
   "source": [
    "taxo.set_index(\"hyponym\").loc[\"proteins\"]"
   ],
   "outputs": [],
   "execution_count": null
  },
  {
   "cell_type": "code",
   "id": "2711b429-fed0-40db-b969-45ea62f91453",
   "metadata": {},
   "source": [
    "e = [tuple(edge) for edge in taxo[[\"hypernym\", \"hyponym\"]].values]\n",
    "g = nx.DiGraph(e)"
   ],
   "outputs": [],
   "execution_count": null
  },
  {
   "cell_type": "code",
   "id": "6ad22e52-53a3-496d-9dae-c9c55e112406",
   "metadata": {},
   "source": [
    "root_cand = [n for n in g.nodes() if g.in_degree(n) == 0]\n",
    "root = root_cand[0]\n",
    "root"
   ],
   "outputs": [],
   "execution_count": null
  },
  {
   "cell_type": "code",
   "id": "ae8dfc58-eb08-4b5a-9091-32b65e0386f9",
   "metadata": {
    "scrolled": true
   },
   "source": [
    "list(g.out_edges(root))"
   ],
   "outputs": [],
   "execution_count": null
  },
  {
   "cell_type": "markdown",
   "id": "ed5e060c-e479-443f-9216-ff317c11217b",
   "metadata": {},
   "source": [
    "## Load all benchmark taxonomies"
   ]
  },
  {
   "cell_type": "code",
   "id": "8176cca2-83f9-45eb-8241-e413459c4385",
   "metadata": {
    "scrolled": true
   },
   "source": [
    "taxos = {}\n",
    "splits = {}\n",
    "taxo_paths = [\"../data/semeval_food\",\n",
    "              \"../data/semeval_verb\",\n",
    "              \"../data/mesh\",\n",
    "              \"../data/wikitax\",\n",
    "              \"../data/bettybossi\",\n",
    "              \"../data/unsupervised_recipe1m\",\n",
    "              \"../data/unsupervised_mesh\",\n",
    "              \"../data/unsupervised_semeval_food\",\n",
    "              \"../data/unsupervised_nonli\",\n",
    "              \"../data/unsupervised_noback\",\n",
    "              \"../data/unsupervised_nogen\"]\n",
    "\n",
    "for tp in taxo_paths:\n",
    "    try:\n",
    "        try:\n",
    "            terms, taxo = load_taxonomy(tp)\n",
    "            splits[Path(tp).name] = load_splits(tp)\n",
    "        except IndexError:\n",
    "            terms, taxo = load_taxonomy(tp, with_split=False)\n",
    "        taxos[Path(tp).name] = terms, taxo\n",
    "    except IndexError as ie:\n",
    "        print(f\"{tp}: {ie}\")\n",
    "        raise ie"
   ],
   "outputs": [],
   "execution_count": null
  },
  {
   "cell_type": "code",
   "id": "86df2347-003e-49d7-95a5-6edfaa0bb9b7",
   "metadata": {},
   "source": [
    "!ls ../data/semeval_verb/*.terms.train"
   ],
   "outputs": [],
   "execution_count": null
  },
  {
   "cell_type": "code",
   "id": "23321d82-62b2-4036-a2c5-b5c43863f1c0",
   "metadata": {},
   "source": [
    "taxos[\"mesh\"][1].set_index(\"hyponym\").loc[\"proteins\"]"
   ],
   "outputs": [],
   "execution_count": null
  },
  {
   "cell_type": "code",
   "id": "5e3db58c-34e5-4afc-8edc-f809cd63d307",
   "metadata": {
    "scrolled": true
   },
   "source": [
    "stats = defaultdict(list)\n",
    "\n",
    "for ds_name, (terms, edges) in taxos.items():\n",
    "    try:\n",
    "        stats[\"Dataset\"].append(ds_name)\n",
    "        stats[\"|V|\"].append(len(terms))\n",
    "        stats[\"|E|\"].append(len(edges))\n",
    "        stats[\"L\"].append(len([l for l in terms.node_id if l in edges.hyponym.values and l not in edges.hypernym.values]))\n",
    "        stats[\"L ratio\"].append(str(round(stats[\"L\"][-1] / stats[\"|V|\"][-1], 2)))\n",
    "        relations = [tuple(r) for r in edges[[\"hypernym\", \"hyponym\"]].values.tolist()]\n",
    "        if \"mesh\" in ds_name:\n",
    "            edges = edges[edges.apply(lambda r: not ((r.hyponym == \"proteins\")\n",
    "                                                     and (r.hypernym in ['glycoproteins', 'bloodproteins'])), axis=1)]\n",
    "        try:\n",
    "            d = pd.Series(create_ancestries(edges)).apply(lambda x: len(x)).max()\n",
    "        except AssertionError:\n",
    "            d = np.nan\n",
    "        stats[\"D\"].append(int(d))\n",
    "        stats[\"BF\"].append(branching_factor(relations, terms.set_index(\"node_id\").node_name.to_dict()))\n",
    "    except RecursionError as re:\n",
    "        print(f\"{ds_name}: {re}\")\n",
    "        raise re\n",
    "\n",
    "stats_df = pd.DataFrame(stats)\n",
    "stats_df"
   ],
   "outputs": [],
   "execution_count": null
  },
  {
   "metadata": {},
   "cell_type": "code",
   "source": [
    "stats_df = pd.DataFrame(stats)[[\"Dataset\", \"|V|\", \"|E|\", \"D\", \"L\", \"L ratio\", \"BF\"]]\n",
    "cols = [c for c in stats_df.columns if str(stats_df.dtypes.loc[c]) == \"float64\"]\n",
    "df_s = stats_df.style.format('{:.2f}', subset=cols)\n",
    "print(df_s.hide(axis=\"index\").to_latex())\n",
    "df_s"
   ],
   "id": "6b0f3a12e0f7d1d5",
   "outputs": [],
   "execution_count": null
  },
  {
   "cell_type": "code",
   "id": "f5bc44f4-59c8-4f77-8ada-345251310557",
   "metadata": {},
   "source": [
    "split_stats = defaultdict(list)\n",
    "\n",
    "for ds_name, (train, val, test) in splits.items():\n",
    "    try:\n",
    "        tot = len(train) + len(val) + len(test)\n",
    "        split_stats[\"Dataset\"].append(ds_name)\n",
    "        split_stats[\"Train |V|\"].append(f\"{len(train)} ({str(round(len(train) / tot, 2) * 100)}\\%)\")\n",
    "        split_stats[\"Val |V|\"].append(f\"{len(val)} ({str(round(len(val) / tot, 2) * 100)}\\%)\")\n",
    "        split_stats[\"Test |V|\"].append(f\"{len(test)} ({str(round(len(test) / tot, 2) * 100)}\\%)\")\n",
    "    except RecursionError as re:\n",
    "        print(f\"{ds_name}: {re}\")\n",
    "        raise re\n",
    "\n",
    "splits_df = pd.DataFrame(split_stats)\n",
    "print(splits_df.to_latex(index=False))\n",
    "splits_df"
   ],
   "outputs": [],
   "execution_count": null
  },
  {
   "cell_type": "code",
   "id": "3e77f90f-e27d-475c-872d-600e2eb4c243",
   "metadata": {},
   "source": [],
   "outputs": [],
   "execution_count": null
  },
  {
   "cell_type": "code",
   "id": "2985f1df-cbc6-42a2-b801-97d89fea7d36",
   "metadata": {},
   "source": [],
   "outputs": [],
   "execution_count": null
  }
 ],
 "metadata": {
  "kernelspec": {
   "display_name": "Python 3 (ipykernel)",
   "language": "python",
   "name": "python3"
  },
  "language_info": {
   "codemirror_mode": {
    "name": "ipython",
    "version": 3
   },
   "file_extension": ".py",
   "mimetype": "text/x-python",
   "name": "python",
   "nbconvert_exporter": "python",
   "pygments_lexer": "ipython3",
   "version": "3.10.9"
  }
 },
 "nbformat": 4,
 "nbformat_minor": 5
}
