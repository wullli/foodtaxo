{
 "cells": [
  {
   "cell_type": "markdown",
   "id": "4c4daf36e1e16241",
   "metadata": {
    "collapsed": false,
    "jupyter": {
     "outputs_hidden": false
    }
   },
   "source": [
    "# Compare gold taxonomies to completed and generated"
   ]
  },
  {
   "cell_type": "code",
   "id": "dd1f7d4a0b4d1f7f",
   "metadata": {
    "collapsed": false,
    "jupyter": {
     "outputs_hidden": false,
     "is_executing": true
    }
   },
   "source": [
    "import random\n",
    "from copy import deepcopy\n",
    "from pathlib import Path\n",
    "import networkx as nx\n",
    "import numpy as np\n",
    "import pandas as pd\n",
    "import itertools\n",
    "\n",
    "from sympy.stats.rv import probability\n",
    "from tqdm.auto import tqdm\n",
    "from transformers import pipeline\n",
    "\n",
    "from llm_food_taxonomy.evaluation import WuPSimilarity, ParentMetric\n",
    "from llm_food_taxonomy.graph.taxonomy import Taxonomy\n",
    "from llm_food_taxonomy.data.loader import load_taxonomy, load_completion, load_subgraph_taxonomy"
   ],
   "outputs": [],
   "execution_count": null
  },
  {
   "cell_type": "code",
   "id": "b5d7f202cad2e993",
   "metadata": {
    "collapsed": false,
    "jupyter": {
     "outputs_hidden": false
    }
   },
   "source": [
    "pd.set_option('display.max_columns', None)\n",
    "pd.set_option('display.expand_frame_repr', False)\n",
    "pd.set_option('max_colwidth', None)\n",
    "pd.set_option('display.float_format', '{:,.4f}'.format)"
   ],
   "outputs": [],
   "execution_count": null
  },
  {
   "cell_type": "code",
   "id": "5fb3ad0ad59c7aed",
   "metadata": {
    "collapsed": false,
    "jupyter": {
     "outputs_hidden": false
    }
   },
   "source": [
    "trial = False\n",
    "mode = \"test\"\n",
    "dataset = \"semeval_food\"\n",
    "data_path = Path(f\"../data/{dataset}\")\n",
    "results_path = Path(f\"../output/{dataset}\")"
   ],
   "outputs": [],
   "execution_count": null
  },
  {
   "cell_type": "code",
   "id": "50f8d0900f90087e",
   "metadata": {
    "collapsed": false,
    "jupyter": {
     "outputs_hidden": false
    }
   },
   "source": [
    "terms, taxo = load_taxonomy(str(data_path), with_split=False)\n",
    "id_to_name = {d[\"node_id\"]: d[\"node_name\"] for d in terms.to_dict(orient=\"records\")}\n",
    "taxo = taxo.apply(lambda x: x.map(id_to_name))\n",
    "id_to_name = dict(zip(id_to_name.values(), id_to_name.values()))\n",
    "id_to_desc = {d[\"node_name\"]: d[\"desc\"] for d in terms.to_dict(orient=\"records\")}"
   ],
   "outputs": [],
   "execution_count": null
  },
  {
   "metadata": {},
   "cell_type": "code",
   "source": "terms.head()",
   "id": "a0e5ddab8d2adcd1",
   "outputs": [],
   "execution_count": null
  },
  {
   "cell_type": "code",
   "id": "4d373a8b184757d9",
   "metadata": {
    "collapsed": false,
    "jupyter": {
     "outputs_hidden": false
    }
   },
   "source": [
    "uterms, utaxo = load_taxonomy(str(Path(f\"../data/\") / f\"unsupervised_{dataset}\"), with_split=False)\n",
    "uid_to_name = {d[\"node_id\"]: d[\"node_name\"] for d in uterms.to_dict(orient=\"records\")}\n",
    "utaxo = utaxo.apply(lambda x: x.map(uid_to_name))\n",
    "uedges = utaxo[['hypernym', 'hyponym']].values.tolist()\n",
    "uedges = [tuple(e) for e in uedges]\n",
    "utax = Taxonomy(uedges, id_to_name=dict(zip(uid_to_name.values(), uid_to_name.values())))\n",
    "utaxo.head()"
   ],
   "outputs": [],
   "execution_count": null
  },
  {
   "cell_type": "code",
   "id": "8de69b0755e52ca4",
   "metadata": {
    "collapsed": false,
    "jupyter": {
     "outputs_hidden": false
    }
   },
   "source": [
    "# required to build the completed taxonomy using predicted positions\n",
    "pseudo_ids = [\"pseudo root\", \"pseudo leaf\"]\n",
    "seed_terms, seed_taxonomy = load_subgraph_taxonomy(str(data_path), mode=\"test\")\n",
    "seed_id_to_name = {d[\"node_id\"]: d[\"node_name\"] for d in seed_terms.to_dict(orient=\"records\")}\n",
    "seed_taxonomy = seed_taxonomy.values.tolist()\n",
    "seed_taxonomy = [(seed_id_to_name[p], seed_id_to_name[c]) for p, c in seed_taxonomy if\n",
    "                 (\"pseudo\" not in p) and (\"pseudo\" not in c)]\n",
    "seed_taxonomy = [(p, c) for p, c in seed_taxonomy]"
   ],
   "outputs": [],
   "execution_count": null
  },
  {
   "cell_type": "code",
   "id": "37ffa3684e6ca920",
   "metadata": {
    "scrolled": true
   },
   "source": [
    "seed_taxonomy"
   ],
   "outputs": [],
   "execution_count": null
  },
  {
   "cell_type": "code",
   "id": "7af26952e9808b43",
   "metadata": {
    "collapsed": false,
    "jupyter": {
     "outputs_hidden": false
    }
   },
   "source": [
    "import traceback\n",
    "from pathlib import Path\n",
    "\n",
    "models_outs = {}\n",
    "filter_words = [\"few_basic_Meta-Llama-3-70B-Instruct_\", \"tacoprompt\"]\n",
    "outputs = [d for d in results_path.iterdir() if d.is_dir]\n",
    "\n",
    "for o in outputs:\n",
    "    try:\n",
    "        try:\n",
    "            model_name = f\"{o.split('_')[2]}_{o.split('_')[3]}\"\n",
    "        except:\n",
    "            model_name = Path(o).name\n",
    "        if any(f in model_name for f in filter_words):\n",
    "            print(f\"Loading {o}\")\n",
    "            pred_terms, pred_triplets = load_completion(o)\n",
    "            models_outs[model_name] = pred_terms, pred_triplets\n",
    "    except Exception as e:\n",
    "        print(f\"Error loading {o}: {e}\")\n",
    "        traceback.print_exc()"
   ],
   "outputs": [],
   "execution_count": null
  },
  {
   "cell_type": "code",
   "id": "2588e8f5da1b3990",
   "metadata": {
    "collapsed": false,
    "jupyter": {
     "outputs_hidden": false
    },
    "scrolled": true
   },
   "source": [
    "model_out = list(models_outs.values())[0]\n",
    "model_out[:5]"
   ],
   "outputs": [],
   "execution_count": null
  },
  {
   "cell_type": "markdown",
   "id": "76448b61b6a9ecd9",
   "metadata": {
    "collapsed": false,
    "jupyter": {
     "outputs_hidden": false
    }
   },
   "source": [
    "## Eval"
   ]
  },
  {
   "cell_type": "code",
   "id": "9b4d6dbfc1812381",
   "metadata": {
    "collapsed": false,
    "jupyter": {
     "outputs_hidden": false
    }
   },
   "source": [
    "from sentence_transformers import SentenceTransformer\n",
    "model = SentenceTransformer('sentence-transformers/all-MiniLM-L6-v2')"
   ],
   "outputs": [],
   "execution_count": null
  },
  {
   "metadata": {},
   "cell_type": "code",
   "source": "nli = pipeline(\"text-classification\", model=\"facebook/bart-large-mnli\", batch_size=128)",
   "id": "cdace4ab90aa9a1d",
   "outputs": [],
   "execution_count": null
  },
  {
   "cell_type": "code",
   "id": "f3acca71215b0209",
   "metadata": {
    "collapsed": false,
    "jupyter": {
     "outputs_hidden": false
    }
   },
   "source": [
    "from llm_food_taxonomy.evaluation import PositionMetric\n",
    "from llm_food_taxonomy.evaluation.unsupervised.robustness import CscMetric, SemanticProximity, \\\n",
    "    NliMetric\n",
    "\n",
    "metrics = [\n",
    "    NliMetric(model=nli, propagate=True, progress=True),\n",
    "    CscMetric(sentence_transformer=model, progress=True),\n",
    "]\n",
    "sup_metrics = [PositionMetric(), ParentMetric()]"
   ],
   "outputs": [],
   "execution_count": null
  },
  {
   "cell_type": "code",
   "id": "efaa5c41ba23b31b",
   "metadata": {
    "collapsed": false,
    "jupyter": {
     "outputs_hidden": false
    }
   },
   "source": [
    "def make_tax(positions, seed_tax, node2name):\n",
    "    triplets = []\n",
    "\n",
    "    for q, positions in positions.items():\n",
    "        for p, c in positions:\n",
    "            triplets.append((p, q, c))\n",
    "\n",
    "    tax = Taxonomy(seed_tax, id_to_name=node2name)\n",
    "    tax.insert(triplets)\n",
    "    return tax"
   ],
   "outputs": [],
   "execution_count": null
  },
  {
   "cell_type": "code",
   "id": "974b3e268fedd4ac",
   "metadata": {},
   "source": [
    "models_outs.keys()"
   ],
   "outputs": [],
   "execution_count": null
  },
  {
   "cell_type": "code",
   "id": "85ffff2af0b1954e",
   "metadata": {},
   "source": [
    "_, (pred_terms, pred_triplets) = list(models_outs.items())[0]\n",
    "_, (pred_terms_tp, pred_triplets_tp) = list(models_outs.items())[1]"
   ],
   "outputs": [],
   "execution_count": null
  },
  {
   "cell_type": "code",
   "id": "15672ddcd1e3088d",
   "metadata": {},
   "source": [
    "def positions(tax: Taxonomy):\n",
    "    triplets = tax.triplets(existing=True)\n",
    "    df = pd.DataFrame(list(triplets), columns=[\"parent\", \"query\", \"child\"])\n",
    "    df = df.groupby(\"query\").agg({\"parent\": list, \"child\": list})\n",
    "    df[\"positions\"] = df.apply(lambda x: list(zip(x.parent, x.child)), axis=1)\n",
    "    df = df.drop(columns=[\"parent\", \"child\"])\n",
    "    df = df.reset_index(drop=False)\n",
    "    pos = {row.query: row.positions for _, row in df.iterrows()}\n",
    "    return pos"
   ],
   "outputs": [],
   "execution_count": null
  },
  {
   "cell_type": "code",
   "id": "2590fcdeddb3d7a2",
   "metadata": {},
   "source": [
    "from collections import defaultdict\n",
    "\n",
    "all_names = list({**id_to_name, **uid_to_name}.keys())\n",
    "all_id_names = {n: n for n in all_names}\n",
    "all_id_names = defaultdict(lambda: None, all_id_names)"
   ],
   "outputs": [],
   "execution_count": null
  },
  {
   "metadata": {},
   "cell_type": "code",
   "source": [
    "pred = {row.query_node: row.predicted_positions for _, row in pred_triplets.iterrows()}\n",
    "pred_tp = {row.query_node: row.predicted_positions for _, row in pred_triplets_tp.iterrows()}\n",
    "true_tax = Taxonomy(list(map(tuple, taxo.values.tolist())), id_to_name=id_to_name)\n",
    "pred_tax = make_tax(pred, seed_taxonomy, id_to_name)\n",
    "tp_tax = make_tax(pred_tp, seed_taxonomy, id_to_name)\n",
    "shuffled_names = list(id_to_name.values())\n",
    "shuffled_descs = list(id_to_desc.values())\n",
    "random.shuffle(shuffled_names)\n",
    "random.shuffle(shuffled_descs)\n",
    "shuffled_id_name = dict(zip(id_to_name.keys(), shuffled_names))\n",
    "shuffled_desc_name = dict(zip(id_to_name.keys(), shuffled_descs))\n",
    "rnd_taxo = [tuple(r) for r in taxo.apply(lambda x: x.map(shuffled_id_name))[[\"hypernym\", \"hyponym\"]].values.tolist()]\n",
    "rnd_tax = Taxonomy(rnd_taxo, id_to_name=shuffled_id_name)\n",
    "\n",
    "intersection = true_tax.leaves()"
   ],
   "id": "29360c7a5ae2507b",
   "outputs": [],
   "execution_count": null
  },
  {
   "metadata": {},
   "cell_type": "code",
   "source": [
    "print(len(intersection))\n",
    "print(\"Pred/True: \", len(set(pred_tax.leaves()).intersection(intersection)))\n",
    "print(\"TacoPrompt/True: \", len(set(tp_tax.leaves()).intersection(intersection)))\n",
    "print(\"Generated/True: \", len(set(utax.leaves()).intersection(intersection)))"
   ],
   "id": "2e147e3e80359315",
   "outputs": [],
   "execution_count": null
  },
  {
   "metadata": {},
   "cell_type": "code",
   "source": [
    "for tn, tax in zip([\"Gold\", \"Completed\", \"Generated\", \"TacoPrompt\"], [true_tax, pred_tax, utax, tp_tax]):\n",
    "    print(f\"Taxonomy: {tn}\")\n",
    "    print(f\"Num edges: {len(tax.g.edges())}\")\n",
    "    print(f\"Num nodes: {len(tax.g.nodes())}\")\n",
    "    print(f\"Num leaves: {len(set(tax.leaves()))}\")"
   ],
   "id": "423ea4592b6840e4",
   "outputs": [],
   "execution_count": null
  },
  {
   "cell_type": "code",
   "id": "96389c2f5858a06f",
   "metadata": {
    "collapsed": false,
    "jupyter": {
     "outputs_hidden": false
    },
    "scrolled": true
   },
   "source": [
    "from collections import defaultdict\n",
    "from llm_food_taxonomy.graph.taxonomy import Taxonomy\n",
    "\n",
    "results = defaultdict(list)\n",
    "scores = []\n",
    "nonleaf_scores = []\n",
    "leaf_scores = []\n",
    "results[\"Taxonomy\"].append(\"True\")\n",
    "results[\"Taxonomy\"].append(\"Completed\")\n",
    "results[\"Taxonomy\"].append(\"Generated\")\n",
    "results[\"Taxonomy\"].append(\"Random\")\n",
    "results[\"Taxonomy\"].append(\"TacoPrompt\")\n",
    "\n",
    "for m in sup_metrics:\n",
    "    print(f\"Metric: {type(m).__name__}\")\n",
    "    pred_pos = positions(pred_tax)\n",
    "    uns_pos = positions(utax)\n",
    "    true_pos = positions(true_tax)\n",
    "    rnd_pos = positions(rnd_tax)\n",
    "    tp_pos = positions(tp_tax)\n",
    "    print(f\"Metric (Completed): {type(m).__name__}\")\n",
    "    pscore, _, _ = m.calculate(\n",
    "        pred_positions=deepcopy(pred_pos),\n",
    "        true_positions=deepcopy(true_pos),\n",
    "        node2name=deepcopy(all_id_names),\n",
    "        seed_taxonomy=[],\n",
    "        verbose=True,\n",
    "        first_only=False,\n",
    "    )\n",
    "\n",
    "    print(f\"Metric (Generated): {type(m).__name__}\")\n",
    "    uscore, _, _ = m.calculate(\n",
    "        pred_positions=deepcopy(uns_pos),\n",
    "        true_positions=deepcopy(true_pos),\n",
    "        node2name=deepcopy(all_id_names),\n",
    "        seed_taxonomy=[],\n",
    "        verbose=True,\n",
    "        first_only=False,\n",
    "    )\n",
    "\n",
    "    print(f\"Metric (True): {type(m).__name__}\")\n",
    "    tscore, _, _ = m.calculate(\n",
    "        pred_positions=deepcopy(true_pos),\n",
    "        true_positions=deepcopy(true_pos),\n",
    "        node2name=deepcopy(all_id_names),\n",
    "        seed_taxonomy=[],\n",
    "        verbose=True,\n",
    "        first_only=False,\n",
    "    )\n",
    "\n",
    "    print(f\"Metric (Random): {type(m).__name__}\")\n",
    "    rscore, _, _ = m.calculate(\n",
    "        pred_positions=deepcopy(rnd_pos),\n",
    "        true_positions=deepcopy(true_pos),\n",
    "        node2name=deepcopy(all_id_names),\n",
    "        seed_taxonomy=[],\n",
    "        verbose=True,\n",
    "        first_only=False,\n",
    "    )\n",
    "\n",
    "    print(f\"Metric (TacoPrompt): {type(m).__name__}\")\n",
    "    tp_score, _, _ = m.calculate(\n",
    "        pred_positions=deepcopy(tp_pos),\n",
    "        true_positions=deepcopy(true_pos),\n",
    "        node2name=deepcopy(all_id_names),\n",
    "        seed_taxonomy=[],\n",
    "        verbose=True,\n",
    "        first_only=False,\n",
    "    )\n",
    "    key = list(rscore.keys())[0]\n",
    "    results[type(m).__name__].append(0)\n",
    "    results[type(m).__name__].append(pscore[key])\n",
    "    results[type(m).__name__].append(uscore[key])\n",
    "    results[type(m).__name__].append(rscore[key])\n",
    "    results[type(m).__name__].append(tp_score[key])\n",
    "    \n",
    "for m in metrics:\n",
    "    print(f\"Metric (True): {type(m).__name__}\")\n",
    "    tscore = m.calculate(\n",
    "         deepcopy(true_tax.g.edges()),\n",
    "         node2name=true_tax.id_to_name | {\"pseudo root\": \"pseudo root\"},\n",
    "         descriptions=true_tax.id_to_name | {\"pseudo root\": \"pseudo root\"}, subset=intersection)\n",
    "\n",
    "    print(f\"Metric (Completed): {type(m).__name__}\")\n",
    "    pscore = m.calculate(deepcopy(pred_tax.g.edges()), node2name=true_tax.id_to_name | {\"pseudo root\": \"pseudo root\"}, descriptions=true_tax.id_to_name | {\"pseudo root\": \"pseudo root\"}, subset=intersection)\n",
    "    # \n",
    "    print(f\"Metric (Generated): {type(m).__name__}\")\n",
    "    uscore = m.calculate(deepcopy(utax.g.edges()), node2name=utax.id_to_name| {\"pseudo root\": \"pseudo root\"}, descriptions=utax.id_to_name| {\"pseudo root\": \"pseudo root\"}, subset=intersection)\n",
    "    # \n",
    "    print(f\"Metric (TacoPrompt): {type(m).__name__}\")\n",
    "    tpscore = m.calculate(deepcopy(tp_tax.g.edges()), node2name=tp_tax.id_to_name| {\"pseudo root\": \"pseudo root\"}, descriptions=tp_tax.id_to_name| {\"pseudo root\": \"pseudo root\"}, subset=intersection)\n",
    "    # \n",
    "    print(f\"Metric (Random): {type(m).__name__}\")\n",
    "    rscore = m.calculate(deepcopy(true_tax.g.edges()), node2name=shuffled_id_name| {\"pseudo root\": \"pseudo root\"}, descriptions=shuffled_id_name| {\"pseudo root\": \"pseudo root\"}, subset=intersection)\n",
    "    \n",
    "    results[type(m).__name__].append(tscore)\n",
    "    results[type(m).__name__].append(pscore)\n",
    "    results[type(m).__name__].append(uscore)\n",
    "    results[type(m).__name__].append(tpscore)\n",
    "    results[type(m).__name__].append(rscore)\n",
    "\n",
    "res_df = pd.DataFrame(results)\n",
    "res_df"
   ],
   "outputs": [],
   "execution_count": null
  },
  {
   "cell_type": "code",
   "id": "486fee9e1f21aea7",
   "metadata": {
    "collapsed": false,
    "jupyter": {
     "outputs_hidden": false
    }
   },
   "source": [
    "res_df = pd.DataFrame(results)\n",
    "res_df"
   ],
   "outputs": [],
   "execution_count": null
  },
  {
   "metadata": {},
   "cell_type": "code",
   "source": [
    "res_df[\"NLIV-W\"] = res_df[\"NliMetric\"].apply(lambda x: x[\"NLIV-Weak\"])\n",
    "res_df[\"NLIV-S\"] = res_df[\"NliMetric\"].apply(lambda x: x[\"NLIV-Strong\"])\n",
    "res_df[\"CSC\"] = res_df[\"CscMetric\"].apply(lambda x: x[\"csc_coef\"])"
   ],
   "id": "c0a750546eff7891",
   "outputs": [],
   "execution_count": null
  },
  {
   "metadata": {},
   "cell_type": "code",
   "source": "results",
   "id": "ca901a0cc54f8744",
   "outputs": [],
   "execution_count": null
  },
  {
   "metadata": {},
   "cell_type": "code",
   "source": "results[\"Taxonomy\"] = [\"Random\"]",
   "id": "68025bc42b06f6b7",
   "outputs": [],
   "execution_count": null
  },
  {
   "cell_type": "code",
   "id": "237ba59f252f2dc5",
   "metadata": {
    "collapsed": false,
    "jupyter": {
     "outputs_hidden": false
    }
   },
   "source": [
    "cols = [c for c in res_df.columns if str(res_df.dtypes.loc[c]) == \"float64\"]\n",
    "df_s = res_df.drop(columns=[\"NliMetric\", \"CscMetric\"]).style.format('{:.4f}', subset=cols)\n",
    "#for c in cols:\n",
    "    #if str(res_df.dtypes.loc[c]) == \"float64\":\n",
    "        #row1, row2 = res_df.index.values[res_df[c].argsort()[::-1]][:2]\n",
    "        #df_s = df_s.format(lambda x: \"\\\\textbf{\" + f'{x:.4f}' + \"}\", subset=(row1, c))\n",
    "        #df_s = df_s.format(lambda x: \"\\\\underline{\" + f'{x:.4f}' + \"}\", subset=(row2, c))\n",
    "print(df_s.hide(axis=\"index\").to_latex())"
   ],
   "outputs": [],
   "execution_count": null
  },
  {
   "metadata": {},
   "cell_type": "code",
   "source": "",
   "id": "fadfa77c760ab3ca",
   "outputs": [],
   "execution_count": null
  }
 ],
 "metadata": {
  "kernelspec": {
   "display_name": "Python 3 (ipykernel)",
   "language": "python",
   "name": "python3"
  },
  "language_info": {
   "codemirror_mode": {
    "name": "ipython",
    "version": 3
   },
   "file_extension": ".py",
   "mimetype": "text/x-python",
   "name": "python",
   "nbconvert_exporter": "python",
   "pygments_lexer": "ipython3",
   "version": "3.10.13"
  }
 },
 "nbformat": 4,
 "nbformat_minor": 5
}
