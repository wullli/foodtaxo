{
 "cells": [
  {
   "cell_type": "markdown",
   "id": "ffdcdac4-4cac-400a-b956-aecd4e1ade90",
   "metadata": {
    "tags": []
   },
   "source": [
    "# Ingredient taxonomy"
   ]
  },
  {
   "cell_type": "code",
   "id": "cfa6768c",
   "metadata": {
    "collapsed": false,
    "jupyter": {
     "outputs_hidden": false
    }
   },
   "source": [
    "\n",
    "%load_ext autoreload\n",
    "%autoreload 2"
   ],
   "outputs": [],
   "execution_count": null
  },
  {
   "cell_type": "markdown",
   "id": "5b7a8335-e3b9-48a7-b1bc-2508d479c12c",
   "metadata": {},
   "source": [
    "Created using https://github.com/nichtich/wikidata-taxonomy"
   ]
  },
  {
   "cell_type": "code",
   "id": "3f5c9468-54ca-4578-98f8-825c5531f43a",
   "metadata": {},
   "source": [
    "#!wdtaxonomy Q2095 -P 279,31,1647 -i -f tsv -o data/wikitax_ingredients.tsv -d"
   ],
   "outputs": [],
   "execution_count": null
  },
  {
   "cell_type": "code",
   "id": "deb094d8-0f46-42df-afbd-dcc8e30404a5",
   "metadata": {
    "tags": []
   },
   "source": [
    "import time\n",
    "import re\n",
    "import numpy as np\n",
    "from aiohttp import ContentTypeError\n",
    "import pandas as pd\n",
    "import asyncio\n",
    "import aiohttp\n",
    "from tqdm.asyncio import tqdm_asyncio\n",
    "from tqdm.auto import tqdm\n",
    "import json\n",
    "from llm_food_taxonomy.graph.construction import tree_from_leaves\n",
    "from llm_food_taxonomy.data.utils import get_ancestry_df"
   ],
   "outputs": [],
   "execution_count": null
  },
  {
   "cell_type": "code",
   "id": "e10bbcca-0036-4fd0-9dc1-98dec02638ee",
   "metadata": {
    "tags": []
   },
   "source": [
    "tqdm.pandas()"
   ],
   "outputs": [],
   "execution_count": null
  },
  {
   "cell_type": "code",
   "id": "d577845d-9dda-4f33-9c13-9b39d82621b0",
   "metadata": {
    "tags": []
   },
   "source": [
    "with open(\"../data/wikitax/wikitax_ingredients.tsv\", \"r\") as f:\n",
    "    cols = [c.strip() for c in f.readline().split(\",\")]\n",
    "\n",
    "tax = pd.read_table(\"../data/wikitax/wikitax_ingredients.tsv\", skiprows=1, header=None)\n",
    "tax.columns = cols\n",
    "tax = tax.dropna(subset=[\"label\"])\n",
    "tax.head()"
   ],
   "outputs": [],
   "execution_count": null
  },
  {
   "cell_type": "code",
   "id": "0988254f-95b1-4386-ad05-54ae8d979b46",
   "metadata": {},
   "source": [
    "tax.shape"
   ],
   "outputs": [],
   "execution_count": null
  },
  {
   "cell_type": "code",
   "id": "b65522d2-9f89-4790-aac8-3daaf8d67365",
   "metadata": {},
   "source": [
    "tax[tax.sites > 0].shape"
   ],
   "outputs": [],
   "execution_count": null
  },
  {
   "cell_type": "code",
   "id": "461269eb-5ab2-4678-af88-49ac815224f9",
   "metadata": {},
   "source": [
    "tax[~(tax.sites > 0)].sample(10)"
   ],
   "outputs": [],
   "execution_count": null
  },
  {
   "cell_type": "code",
   "id": "29a7a379-5fee-40e2-a8c7-28803d24b6a8",
   "metadata": {
    "tags": []
   },
   "source": [
    "tax.loc[tax[tax.level.isna()].index, \"level\"] = \"\""
   ],
   "outputs": [],
   "execution_count": null
  },
  {
   "cell_type": "code",
   "id": "7632d19a-c204-4bc1-81e0-0b699651687a",
   "metadata": {
    "tags": []
   },
   "source": [
    "tax[tax.label == \"fruit\"]"
   ],
   "outputs": [],
   "execution_count": null
  },
  {
   "cell_type": "code",
   "id": "6b80ffa1-6045-4013-9067-f82612e3a11f",
   "metadata": {},
   "source": [
    "tax.shape"
   ],
   "outputs": [],
   "execution_count": null
  },
  {
   "cell_type": "code",
   "id": "3495c72d-91e2-45bb-8985-6e4185e38910",
   "metadata": {},
   "source": [
    "tax.shape"
   ],
   "outputs": [],
   "execution_count": null
  },
  {
   "cell_type": "code",
   "id": "f957ed75-db44-4433-a540-00731fb8bff6",
   "metadata": {
    "tags": []
   },
   "source": [
    "semaphore = asyncio.Semaphore(5)\n",
    "\n",
    "async def get_desc(qid):\n",
    "    try:\n",
    "        async with semaphore, aiohttp.ClientSession() as session:\n",
    "            headers = {'content-type': 'application/json'}\n",
    "            async with session.get(f'https://www.wikidata.org/w/rest.php/wikibase/v0/entities/items/{qid}/descriptions/en',\n",
    "                                   headers=headers) as resp:\n",
    "                r = await resp.json()\n",
    "                return qid, r\n",
    "    except ContentTypeError:\n",
    "        time.sleep(3)\n",
    "        return await get_desc(qid)\n"
   ],
   "outputs": [],
   "execution_count": null
  },
  {
   "cell_type": "code",
   "id": "8ab9c8a2",
   "metadata": {
    "collapsed": false,
    "jupyter": {
     "outputs_hidden": false
    }
   },
   "source": [
    "r = await get_desc(\"Q3314483\")\n",
    "r[1]"
   ],
   "outputs": [],
   "execution_count": null
  },
  {
   "cell_type": "code",
   "id": "064d97b9",
   "metadata": {
    "collapsed": false,
    "jupyter": {
     "outputs_hidden": false
    }
   },
   "source": [
    "qid_to_desc = {}\n",
    "\n",
    "for cr in tqdm_asyncio.as_completed([get_desc(qid) for qid in tax.id.values.tolist()],\n",
    "                                     desc=\"Generating ancestries\", total=len(tax)):\n",
    "    qid, desc = await cr\n",
    "    qid_to_desc[qid] = desc"
   ],
   "outputs": [],
   "execution_count": null
  },
  {
   "metadata": {},
   "cell_type": "code",
   "source": "qid_to_desc",
   "id": "4260e716266e13ad",
   "outputs": [],
   "execution_count": null
  },
  {
   "cell_type": "code",
   "id": "1fa0474a-537a-4671-8ea7-9968190ef241",
   "metadata": {
    "collapsed": true,
    "jupyter": {
     "outputs_hidden": true
    }
   },
   "source": [
    "tax[\"desc\"] = tax.id.progress_apply(lambda qid: qid_to_desc[qid])"
   ],
   "outputs": [],
   "execution_count": null
  },
  {
   "cell_type": "code",
   "id": "e4956c8c",
   "metadata": {
    "collapsed": false,
    "jupyter": {
     "outputs_hidden": false
    }
   },
   "source": [
    "descs = tax[[\"label\", \"desc\"]]\n",
    "descs.head()"
   ],
   "outputs": [],
   "execution_count": null
  },
  {
   "metadata": {},
   "cell_type": "code",
   "source": [
    "def clean_node_name(name):\n",
    "    name = name.split(\":\")[-1]\n",
    "    name = name.strip()\n",
    "    name = name.replace(\"-\", \" \")\n",
    "    name = name.replace(\",\", \"\")\n",
    "    name = re.sub('[^A-Za-z0-9À-Ÿ :]+', '', name)\n",
    "    name = \" \".join(name.split(\"\\t\"))\n",
    "    name = re.sub(r\"\\s{2,}\", \" \", name)\n",
    "    return name.lower()"
   ],
   "id": "7ccac8161f6f68bc",
   "outputs": [],
   "execution_count": null
  },
  {
   "metadata": {},
   "cell_type": "code",
   "source": [
    "descs.label = descs.label.apply(clean_node_name)\n",
    "descs.desc = descs.desc.apply(lambda x: x if isinstance(x, str) else np.nan)\n",
    "descs = descs.dropna()"
   ],
   "id": "b5918716ce01730c",
   "outputs": [],
   "execution_count": null
  },
  {
   "cell_type": "code",
   "id": "468eacc4",
   "metadata": {
    "collapsed": false,
    "jupyter": {
     "outputs_hidden": false
    }
   },
   "source": "descs.to_csv(\"../data/wikitax/raw_desc.csv\")",
   "outputs": [],
   "execution_count": null
  },
  {
   "cell_type": "code",
   "id": "8140f01c",
   "metadata": {
    "collapsed": false,
    "jupyter": {
     "outputs_hidden": false
    }
   },
   "source": [
    "descs.sample(10)"
   ],
   "outputs": [],
   "execution_count": null
  },
  {
   "cell_type": "code",
   "id": "6f8a05fe-70e3-4912-9d57-e66cb11228bf",
   "metadata": {
    "tags": []
   },
   "source": [
    "taxonomy = {}\n",
    "subtree = taxonomy\n",
    "prev_level = 0\n",
    "prev_ing = None\n",
    "prev_row = None\n",
    "ancestors = []\n",
    "\n",
    "def get_subtree(ancestors, taxonomy):\n",
    "    st = taxonomy\n",
    "    for anc in ancestors:\n",
    "        st = st[anc]\n",
    "    return st\n",
    "\n",
    "for i, row in tqdm(tax.iterrows(), total=len(tax)):\n",
    "    lvl = len(row[\"level\"]) if i != 0 else 0\n",
    "    ing = row[\"label\"]\n",
    "    if i == 0:\n",
    "        subtree[ing] = {}\n",
    "    if lvl > prev_level:\n",
    "        subtree = get_subtree(ancestors, taxonomy)\n",
    "        ancestors.append(prev_ing)\n",
    "        subtree[prev_ing] = {}\n",
    "    elif lvl == prev_level:\n",
    "        subtree[prev_ing] = {}\n",
    "    elif lvl < prev_level:\n",
    "        n_up = prev_level - lvl\n",
    "        for _ in range(n_up):\n",
    "            if len(ancestors) > 0:\n",
    "                ancestors.pop()\n",
    "        subtree[prev_ing] = {}\n",
    "        subtree = get_subtree(ancestors, taxonomy)\n",
    "    else:\n",
    "        raise ValueError(\"Something went wrong\")\n",
    "\n",
    "    prev_ing = ing\n",
    "    prev_level = lvl\n",
    "    prev_row = row"
   ],
   "outputs": [],
   "execution_count": null
  },
  {
   "cell_type": "code",
   "id": "0dc6a9fa-f33a-48cd-a869-07192c399623",
   "metadata": {
    "scrolled": true,
    "tags": []
   },
   "source": [
    "list(taxonomy.keys())"
   ],
   "outputs": [],
   "execution_count": null
  },
  {
   "cell_type": "code",
   "id": "ecfbe556-c66e-47b6-a64e-a659caa8cc44",
   "metadata": {
    "collapsed": true,
    "jupyter": {
     "outputs_hidden": true
    }
   },
   "source": [
    "taxonomy[\"meat\"]"
   ],
   "outputs": [],
   "execution_count": null
  },
  {
   "cell_type": "markdown",
   "id": "a14ab793",
   "metadata": {
    "collapsed": false,
    "jupyter": {
     "outputs_hidden": false
    }
   },
   "source": [
    "## Clean up taxonomy"
   ]
  },
  {
   "cell_type": "code",
   "id": "e3ae3c19",
   "metadata": {
    "collapsed": false,
    "jupyter": {
     "outputs_hidden": false
    }
   },
   "source": [
    "recipes = pd.read_json(\"../data/recipes/recipe1m_plus_det_ingrs.json\")\n",
    "recipes = recipes[[\"ingredients\"]]\n",
    "recipes.ingredients = recipes.ingredients.progress_apply(lambda x: [i[\"text\"] for i in x if \"text\" in i])\n",
    "recipes.head()"
   ],
   "outputs": [],
   "execution_count": null
  },
  {
   "cell_type": "code",
   "id": "a4dcba8b",
   "metadata": {
    "collapsed": false,
    "jupyter": {
     "outputs_hidden": false
    }
   },
   "source": [
    "ingredients = recipes.explode(\"ingredients\").dropna()\n",
    "ingredients = ingredients.value_counts().reset_index()\n",
    "ingredients.columns = [\"label\", \"ingredient_count\"]\n",
    "ingredients.head()"
   ],
   "outputs": [],
   "execution_count": null
  },
  {
   "cell_type": "code",
   "id": "3a0c4fd9",
   "metadata": {
    "collapsed": false,
    "jupyter": {
     "outputs_hidden": false
    }
   },
   "source": [
    "ingredients = ingredients[ingredients.ingredient_count > 10]\n",
    "ingredients.shape"
   ],
   "outputs": [],
   "execution_count": null
  },
  {
   "cell_type": "code",
   "id": "d5d18c71",
   "metadata": {
    "collapsed": false,
    "jupyter": {
     "outputs_hidden": false
    }
   },
   "source": [
    "ingredients.sample(10)"
   ],
   "outputs": [],
   "execution_count": null
  },
  {
   "cell_type": "code",
   "id": "0f884dc4",
   "metadata": {
    "collapsed": false,
    "jupyter": {
     "outputs_hidden": false
    }
   },
   "source": [
    "taxonomy = {\"food\": taxonomy}"
   ],
   "outputs": [],
   "execution_count": null
  },
  {
   "cell_type": "code",
   "id": "03392561",
   "metadata": {
    "collapsed": false,
    "jupyter": {
     "outputs_hidden": false
    }
   },
   "source": [
    "df = get_ancestry_df(taxonomy, sep=\";\")\n",
    "print(df.shape)\n",
    "df.head()"
   ],
   "outputs": [],
   "execution_count": null
  },
  {
   "cell_type": "code",
   "id": "a7896cfb",
   "metadata": {
    "collapsed": false,
    "jupyter": {
     "outputs_hidden": false
    }
   },
   "source": [
    "df = df[df.leaf.isin(ingredients.label)]\n",
    "df.shape"
   ],
   "outputs": [],
   "execution_count": null
  },
  {
   "cell_type": "code",
   "id": "fd6821de",
   "metadata": {
    "collapsed": false,
    "jupyter": {
     "outputs_hidden": false
    }
   },
   "source": [
    "df.leaf.unique().shape[0] == df.leaf.shape[0]"
   ],
   "outputs": [],
   "execution_count": null
  },
  {
   "cell_type": "code",
   "id": "727ab1b0",
   "metadata": {
    "collapsed": false,
    "jupyter": {
     "outputs_hidden": false
    }
   },
   "source": [
    "df.leaf.unique().shape[0]"
   ],
   "outputs": [],
   "execution_count": null
  },
  {
   "cell_type": "code",
   "id": "488a8305",
   "metadata": {
    "collapsed": false,
    "jupyter": {
     "outputs_hidden": false
    }
   },
   "source": "cleaned_taxonomy = tree_from_leaves(df, sep=\";\", min_leaf_depth=3)",
   "outputs": [],
   "execution_count": null
  },
  {
   "cell_type": "code",
   "id": "49c47977",
   "metadata": {
    "collapsed": false,
    "jupyter": {
     "outputs_hidden": false
    }
   },
   "source": [
    "cleaned_taxonomy"
   ],
   "outputs": [],
   "execution_count": null
  },
  {
   "cell_type": "code",
   "id": "c8ac1519-73b2-4dc0-8ec6-6e0ce04cb4f7",
   "metadata": {
    "tags": []
   },
   "source": [
    "with open(\"../data/wikitax/wikitax_ingredients_taxonomy.json\", \"w\") as f:\n",
    "    json.dump(cleaned_taxonomy, f, indent=4)"
   ],
   "outputs": [],
   "execution_count": null
  },
  {
   "cell_type": "code",
   "id": "ec2be32d",
   "metadata": {
    "collapsed": false,
    "jupyter": {
     "outputs_hidden": false
    }
   },
   "source": [],
   "outputs": [],
   "execution_count": null
  }
 ],
 "metadata": {
  "kernelspec": {
   "display_name": "Python 3 (ipykernel)",
   "language": "python",
   "name": "python3"
  },
  "language_info": {
   "codemirror_mode": {
    "name": "ipython",
    "version": 3
   },
   "file_extension": ".py",
   "mimetype": "text/x-python",
   "name": "python",
   "nbconvert_exporter": "python",
   "pygments_lexer": "ipython3",
   "version": "3.10.13"
  }
 },
 "nbformat": 4,
 "nbformat_minor": 5
}
